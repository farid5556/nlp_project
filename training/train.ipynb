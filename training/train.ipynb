{
 "cells": [
  {
   "cell_type": "code",
   "execution_count": null,
   "metadata": {},
   "outputs": [
    {
     "name": "stderr",
     "output_type": "stream",
     "text": [
      "d:\\Pemrograman\\python\\nlp_project\\env\\lib\\site-packages\\tqdm\\auto.py:21: TqdmWarning: IProgress not found. Please update jupyter and ipywidgets. See https://ipywidgets.readthedocs.io/en/stable/user_install.html\n",
      "  from .autonotebook import tqdm as notebook_tqdm\n",
      "Downloading readme: 100%|██████████| 7.81k/7.81k [00:00<?, ?B/s]\n",
      "d:\\Pemrograman\\python\\nlp_project\\env\\lib\\site-packages\\huggingface_hub\\file_download.py:797: FutureWarning: `resume_download` is deprecated and will be removed in version 1.0.0. Downloads always resume when possible. If you want to force a new download, use `force_download=True`.\n",
      "  warnings.warn(\n",
      "Map: 100%|██████████| 40000/40000 [00:14<00:00, 2852.25 examples/s]\n",
      "Map: 100%|██████████| 10000/10000 [00:03<00:00, 2928.25 examples/s]\n"
     ]
    }
   ],
   "source": [
    "import tensorflow as tf\n",
    "from transformers import AutoTokenizer, TFBertForSequenceClassification, AdamW\n",
    "from datasets import load_dataset, Dataset\n",
    "import import_ipynb         # Untuk Import file ipynb\n",
    "import preprocess"
   ]
  },
  {
   "cell_type": "code",
   "execution_count": null,
   "metadata": {},
   "outputs": [],
   "source": [
    "# Langkah 3: Memuat Model BERT Pretrained untuk Klasifikasi Sentimen\n",
    "model_name = preprocess.model_name\n",
    "tokenized_datasets = preprocess.tokenized_datasets\n",
    "tokenizer = preprocess.tokenizer\n",
    "\n",
    "model = TFBertForSequenceClassification.from_pretrained(model_name, num_labels=1)\n",
    "\n",
    "# Langkah 4: Mengonversi dataset ke format TensorFlow\n",
    "train_dataset = tokenized_datasets['train'].to_tf_dataset(\n",
    "    columns=[\"input_ids\", \"attention_mask\"],\n",
    "    label_cols=[\"label\"],\n",
    "    batch_size=16,\n",
    "    shuffle=True,       # Mengacak urutan data, untuk mencegah overfitting\n",
    ")\n",
    "\n",
    "val_dataset = tokenized_datasets['test'].to_tf_dataset(\n",
    "    columns=[\"input_ids\", \"attention_mask\"],\n",
    "    label_cols=[\"label\"],\n",
    "    batch_size=16,\n",
    ")\n",
    "\n",
    "# Langkah 5: Menyiapkan Optimizer, Loss Function dan metrik\n",
    "optimizer = tf.keras.optimizers.AdamW(learning_rate=2e-5, weight_decay=0.01)\n",
    "loss = tf.keras.losses.BinaryCrossentropy(from_logits=True)\n",
    "metrics = [tf.keras.metrics.BinaryAccuracy()]\n",
    "\n",
    "# Kompilasi model\n",
    "model.compile(optimizer=optimizer, loss=loss, metrics=metrics)\n",
    "\n",
    "# Langkah 6: Melatih Model\n",
    "model.fit(train_dataset, validation_data=val_dataset, epochs=3)"
   ]
  },
  {
   "cell_type": "code",
   "execution_count": null,
   "metadata": {},
   "outputs": [],
   "source": [
    "# Langkah 7: Evaluasi Model\n",
    "results = model.evaluate(val_dataset)\n",
    "print(f\"Validation loss: {results[0]}, Validation accuracy: {results[1]}\")"
   ]
  },
  {
   "cell_type": "code",
   "execution_count": null,
   "metadata": {},
   "outputs": [],
   "source": [
    "# Langkah 8: Prediksi\n",
    "kalimat = \"I love this movie!\"\n",
    "inputs = tokenizer(kalimat, return_tensors=\"tf\")\n",
    "logits = model(inputs).logits\n",
    "predicted_class = tf.argmax(logits, axis=-1)\n",
    "\n",
    "print(f\"Predicted sentiment: {'Positive' if predicted_class == 1 else 'Negative'}\")"
   ]
  },
  {
   "cell_type": "code",
   "execution_count": null,
   "metadata": {},
   "outputs": [],
   "source": [
    "model.save(\"classification_sentiment_model\", save_format=\"tf\")"
   ]
  }
 ],
 "metadata": {
  "kernelspec": {
   "display_name": "Python 3",
   "language": "python",
   "name": "python3"
  },
  "language_info": {
   "codemirror_mode": {
    "name": "ipython",
    "version": 3
   },
   "file_extension": ".py",
   "mimetype": "text/x-python",
   "name": "python",
   "nbconvert_exporter": "python",
   "pygments_lexer": "ipython3",
   "version": "3.10.13"
  }
 },
 "nbformat": 4,
 "nbformat_minor": 2
}
