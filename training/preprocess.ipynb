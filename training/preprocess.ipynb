{
 "cells": [
  {
   "cell_type": "code",
   "execution_count": 1,
   "metadata": {},
   "outputs": [
    {
     "name": "stderr",
     "output_type": "stream",
     "text": [
      "d:\\Pemrograman\\python\\nlp_project\\env\\lib\\site-packages\\tqdm\\auto.py:21: TqdmWarning: IProgress not found. Please update jupyter and ipywidgets. See https://ipywidgets.readthedocs.io/en/stable/user_install.html\n",
      "  from .autonotebook import tqdm as notebook_tqdm\n"
     ]
    }
   ],
   "source": [
    "import tensorflow as tf\n",
    "from transformers import AutoTokenizer, TFBertForSequenceClassification, AdamW\n",
    "from datasets import load_dataset, Dataset"
   ]
  },
  {
   "cell_type": "code",
   "execution_count": 2,
   "metadata": {},
   "outputs": [],
   "source": [
    "# Langkah 1: Memuat Dataset\n",
    "dataset = load_dataset(\"imdb\")\n",
    "model_name = \"bert-base-uncased\"\n",
    "\n",
    "# Gabungkan train dan test menjadi satu dataset\n",
    "full_data = Dataset.from_dict({\n",
    "    \"text\": dataset[\"train\"][\"text\"] + dataset[\"test\"][\"text\"],\n",
    "    \"label\": dataset[\"train\"][\"label\"] + dataset[\"test\"][\"label\"]\n",
    "})\n",
    "\n",
    "# Split ulang dengan 80% train dan 20% test\n",
    "split_data = full_data.train_test_split(test_size=0.2, seed=42)"
   ]
  },
  {
   "cell_type": "code",
   "execution_count": 3,
   "metadata": {},
   "outputs": [
    {
     "name": "stderr",
     "output_type": "stream",
     "text": [
      "Map: 100%|██████████| 40000/40000 [00:16<00:00, 2423.86 examples/s]\n",
      "Map: 100%|██████████| 10000/10000 [00:03<00:00, 2636.86 examples/s]\n"
     ]
    }
   ],
   "source": [
    "# Langkah 2: Memuat Tokenizer\n",
    "tokenizer = AutoTokenizer.from_pretrained(model_name)\n",
    "\n",
    "# Tokenisasi data\n",
    "def tokenize_function(examples):\n",
    "    return tokenizer(examples['text'], max_length=128, padding=True, truncation=True)\n",
    "\n",
    "# Terapkan tokenisasi ke dataset\n",
    "tokenized_datasets = split_data.map(tokenize_function, batched=True)\n"
   ]
  }
 ],
 "metadata": {
  "kernelspec": {
   "display_name": "Python 3",
   "language": "python",
   "name": "python3"
  },
  "language_info": {
   "codemirror_mode": {
    "name": "ipython",
    "version": 3
   },
   "file_extension": ".py",
   "mimetype": "text/x-python",
   "name": "python",
   "nbconvert_exporter": "python",
   "pygments_lexer": "ipython3",
   "version": "3.10.13"
  }
 },
 "nbformat": 4,
 "nbformat_minor": 2
}
